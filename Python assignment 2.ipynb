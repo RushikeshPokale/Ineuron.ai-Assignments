{
 "cells": [
  {
   "cell_type": "markdown",
   "metadata": {},
   "source": [
    "### 1. Create the below pattern using nested for loop in Python. \n",
    "#### * \n",
    "#### * * \n",
    "#### * * * \n",
    "#### * * * * \n",
    "#### * * * * * \n",
    "#### * * * * \n",
    "#### * * * \n",
    "#### * * \n",
    "#### * \n"
   ]
  },
  {
   "cell_type": "code",
   "execution_count": 52,
   "metadata": {},
   "outputs": [
    {
     "name": "stdout",
     "output_type": "stream",
     "text": [
      "Enter no of rows:\n",
      "5\n",
      "\n",
      "*\n",
      "**\n",
      "***\n",
      "****\n",
      "*****\n",
      "****\n",
      "***\n",
      "**\n",
      "*\n"
     ]
    }
   ],
   "source": [
    "rows = int(input(\"Enter no of rows:\\n\")) #rows before mirror\n",
    "for i in range(0,rows+1):\n",
    "    print(\"*\"*i)\n",
    "for j in range(rows-1, 0, -1):\n",
    "    print(\"*\"*j)\n",
    "   \n",
    "      \n",
    "    \n",
    "        "
   ]
  },
  {
   "cell_type": "code",
   "execution_count": null,
   "metadata": {},
   "outputs": [],
   "source": []
  },
  {
   "cell_type": "markdown",
   "metadata": {},
   "source": [
    "#### 2. Write a Python program to reverse a word after accepting the input from the user. Sample Output: \n",
    "#### Input word: ineuron \n",
    "#### Output: norueni\n"
   ]
  },
  {
   "cell_type": "code",
   "execution_count": 50,
   "metadata": {},
   "outputs": [
    {
     "name": "stdout",
     "output_type": "stream",
     "text": [
      "Enter input word:\n",
      "ineuron\n",
      "Reverse word is:\n",
      " norueni\n"
     ]
    }
   ],
   "source": [
    "Input_word = str(input(\"Enter input word:\\n\"))\n",
    "Output = Input_word[::-1]\n",
    "print(\"Reverse word is:\\n\", Output)"
   ]
  },
  {
   "cell_type": "code",
   "execution_count": null,
   "metadata": {},
   "outputs": [],
   "source": []
  }
 ],
 "metadata": {
  "kernelspec": {
   "display_name": "Python 3",
   "language": "python",
   "name": "python3"
  },
  "language_info": {
   "codemirror_mode": {
    "name": "ipython",
    "version": 3
   },
   "file_extension": ".py",
   "mimetype": "text/x-python",
   "name": "python",
   "nbconvert_exporter": "python",
   "pygments_lexer": "ipython3",
   "version": "3.8.5"
  }
 },
 "nbformat": 4,
 "nbformat_minor": 4
}
